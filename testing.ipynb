{
 "cells": [
  {
   "cell_type": "code",
   "execution_count": null,
   "metadata": {},
   "outputs": [],
   "source": [
    "import requests\n",
    "from bs4 import BeautifulSoup\n",
    "import pandas as pd\n",
    "import re\n",
    "import numpy as np"
   ]
  },
  {
   "cell_type": "code",
   "execution_count": null,
   "metadata": {},
   "outputs": [],
   "source": [
    "pip install requests"
   ]
  },
  {
   "cell_type": "code",
   "execution_count": null,
   "metadata": {},
   "outputs": [],
   "source": [
    "import requests\n",
    "from bs4 import BeautifulSoup\n",
    "import pandas as pd\n",
    "import re\n",
    "import numpy as np"
   ]
  },
  {
   "cell_type": "code",
   "execution_count": null,
   "metadata": {},
   "outputs": [],
   "source": [
    "pip install bs4"
   ]
  },
  {
   "cell_type": "code",
   "execution_count": null,
   "metadata": {},
   "outputs": [],
   "source": [
    "\n",
    "pip install pandas"
   ]
  },
  {
   "cell_type": "code",
   "execution_count": null,
   "metadata": {},
   "outputs": [],
   "source": [
    "pip install re"
   ]
  },
  {
   "cell_type": "code",
   "execution_count": null,
   "metadata": {},
   "outputs": [],
   "source": [
    "pip install numpy"
   ]
  },
  {
   "cell_type": "code",
   "execution_count": null,
   "metadata": {},
   "outputs": [],
   "source": [
    "import requests\n",
    "from bs4 import BeautifulSoup\n",
    "import pandas as pd\n",
    "import re\n",
    "import numpy as np\n"
   ]
  },
  {
   "cell_type": "code",
   "execution_count": 1,
   "metadata": {},
   "outputs": [],
   "source": [
    "def extract_batting_data(series_id, match_id):\n",
    "    URL = (\n",
    "        \"https://www.espncricinfo.com/series/\"\n",
    "        + str(series_id)\n",
    "        + \"/scorecard/\"\n",
    "        + str(match_id)\n",
    "    )\n",
    "    page = requests.get(URL)\n",
    "    soup = BeautifulSoup(page.content, \"lxml\")\n",
    "\n",
    "    table_body = soup.find_all(\"tbody\")\n",
    "    batsmen_df = pd.DataFrame(\n",
    "        columns=[\"Name\", \"Desc\", \"Runs\", \"Balls\", \"4s\", \"6s\", \"SR\", \"Team\"]\n",
    "    )\n",
    "    for i, table in enumerate(table_body[0:4:2]):\n",
    "        rows = table.find_all(\"tr\")\n",
    "        for row in rows:\n",
    "            cols = row.find_all(\"td\")\n",
    "            cols = [x.text.strip().replace(\"\\xa0\", \" \") for x in cols]\n",
    "            if cols[0] == \"Extras\" or cols[0] == \"TOTAL\":\n",
    "                continue\n",
    "            if len(cols) == 8:\n",
    "                batsmen_df = batsmen_df.append(\n",
    "                    pd.Series(\n",
    "                        [\n",
    "                            re.sub(r\"\\W+\", \" \", cols[0].split(\"(c)\")[0]).strip(),\n",
    "                            cols[1],\n",
    "                            cols[2],\n",
    "                            cols[3],\n",
    "                            cols[5],\n",
    "                            cols[6],\n",
    "                            cols[7],\n",
    "                            i + 1,\n",
    "                        ],\n",
    "                        index=batsmen_df.columns,\n",
    "                    ),\n",
    "                    ignore_index=True,\n",
    "                )\n",
    "        print(batsmen_df)\n",
    "    \n",
    "    return batsmen_df"
   ]
  },
  {
   "cell_type": "code",
   "execution_count": 4,
   "metadata": {},
   "outputs": [
    {
     "ename": "NameError",
     "evalue": "name 'requests' is not defined",
     "output_type": "error",
     "traceback": [
      "\u001b[0;31m---------------------------------------------------------------------------\u001b[0m",
      "\u001b[0;31mNameError\u001b[0m                                 Traceback (most recent call last)",
      "\u001b[0;32m/var/folders/cn/5rnysw_j46b1ydpy2dtqwfbm0000gn/T/ipykernel_11219/4086186965.py\u001b[0m in \u001b[0;36m<module>\u001b[0;34m\u001b[0m\n\u001b[0;32m----> 1\u001b[0;31m \u001b[0mmivcsk\u001b[0m \u001b[0;34m=\u001b[0m \u001b[0mextract_batting_data\u001b[0m\u001b[0;34m(\u001b[0m\u001b[0;36m8048\u001b[0m\u001b[0;34m,\u001b[0m \u001b[0;36m1136561\u001b[0m\u001b[0;34m)\u001b[0m\u001b[0;34m\u001b[0m\u001b[0;34m\u001b[0m\u001b[0m\n\u001b[0m\u001b[1;32m      2\u001b[0m \u001b[0mindvpak\u001b[0m \u001b[0;34m=\u001b[0m \u001b[0mextract_batting_data\u001b[0m\u001b[0;34m(\u001b[0m\u001b[0;36m1298134\u001b[0m\u001b[0;34m,\u001b[0m \u001b[0;36m1298150\u001b[0m\u001b[0;34m)\u001b[0m\u001b[0;34m\u001b[0m\u001b[0;34m\u001b[0m\u001b[0m\n",
      "\u001b[0;32m/var/folders/cn/5rnysw_j46b1ydpy2dtqwfbm0000gn/T/ipykernel_11219/3185461238.py\u001b[0m in \u001b[0;36mextract_batting_data\u001b[0;34m(series_id, match_id)\u001b[0m\n\u001b[1;32m      6\u001b[0m         \u001b[0;34m+\u001b[0m \u001b[0mstr\u001b[0m\u001b[0;34m(\u001b[0m\u001b[0mmatch_id\u001b[0m\u001b[0;34m)\u001b[0m\u001b[0;34m\u001b[0m\u001b[0;34m\u001b[0m\u001b[0m\n\u001b[1;32m      7\u001b[0m     )\n\u001b[0;32m----> 8\u001b[0;31m     \u001b[0mpage\u001b[0m \u001b[0;34m=\u001b[0m \u001b[0mrequests\u001b[0m\u001b[0;34m.\u001b[0m\u001b[0mget\u001b[0m\u001b[0;34m(\u001b[0m\u001b[0mURL\u001b[0m\u001b[0;34m)\u001b[0m\u001b[0;34m\u001b[0m\u001b[0;34m\u001b[0m\u001b[0m\n\u001b[0m\u001b[1;32m      9\u001b[0m     \u001b[0msoup\u001b[0m \u001b[0;34m=\u001b[0m \u001b[0mBeautifulSoup\u001b[0m\u001b[0;34m(\u001b[0m\u001b[0mpage\u001b[0m\u001b[0;34m.\u001b[0m\u001b[0mcontent\u001b[0m\u001b[0;34m,\u001b[0m \u001b[0;34m\"lxml\"\u001b[0m\u001b[0;34m)\u001b[0m\u001b[0;34m\u001b[0m\u001b[0;34m\u001b[0m\u001b[0m\n\u001b[1;32m     10\u001b[0m \u001b[0;34m\u001b[0m\u001b[0m\n",
      "\u001b[0;31mNameError\u001b[0m: name 'requests' is not defined"
     ]
    }
   ],
   "source": [
    "mivcsk = extract_batting_data(8048, 1136561)\n",
    "indvpak = extract_batting_data(1298134, 1298150)"
   ]
  },
  {
   "cell_type": "code",
   "execution_count": 5,
   "metadata": {},
   "outputs": [
    {
     "ename": "NameError",
     "evalue": "name 'mivcsk' is not defined",
     "output_type": "error",
     "traceback": [
      "\u001b[0;31m---------------------------------------------------------------------------\u001b[0m",
      "\u001b[0;31mNameError\u001b[0m                                 Traceback (most recent call last)",
      "\u001b[0;32m/var/folders/cn/5rnysw_j46b1ydpy2dtqwfbm0000gn/T/ipykernel_11219/1556481119.py\u001b[0m in \u001b[0;36m<module>\u001b[0;34m\u001b[0m\n\u001b[0;32m----> 1\u001b[0;31m \u001b[0mprint\u001b[0m\u001b[0;34m(\u001b[0m\u001b[0mmivcsk\u001b[0m\u001b[0;34m)\u001b[0m\u001b[0;34m\u001b[0m\u001b[0;34m\u001b[0m\u001b[0m\n\u001b[0m",
      "\u001b[0;31mNameError\u001b[0m: name 'mivcsk' is not defined"
     ]
    }
   ],
   "source": [
    "print(mivcsk)"
   ]
  },
  {
   "cell_type": "code",
   "execution_count": 6,
   "metadata": {},
   "outputs": [
    {
     "name": "stdout",
     "output_type": "stream",
     "text": [
      "                   Name                                   Desc Runs Balls 4s  \\\n",
      "0       Mohammad Rizwan               c Kumar b Arshdeep Singh    4    12  1   \n",
      "1            Babar Azam                   lbw b Arshdeep Singh    0     1  0   \n",
      "2           Shan Masood                                not out   52    42  5   \n",
      "3        Iftikhar Ahmed                   lbw b Mohammed Shami   51    34  2   \n",
      "4           Shadab Khan                       c Yadav b Pandya    5     6  1   \n",
      "5            Haider Ali                       c Yadav b Pandya    2     4  0   \n",
      "6        Mohammad Nawaz                    c †Karthik b Pandya    9     6  2   \n",
      "7              Asif Ali            c †Karthik b Arshdeep Singh    2     3  0   \n",
      "8   Shaheen Shah Afridi                            c & b Kumar   16     8  1   \n",
      "9            Haris Rauf                                not out    6     4  0   \n",
      "10             KL Rahul                          b Naseem Shah    4     8  0   \n",
      "11         Rohit Sharma          c Iftikhar Ahmed b Haris Rauf    4     7  0   \n",
      "12          Virat Kohli                                not out   82    53  6   \n",
      "13     Suryakumar Yadav        c †Mohammad Rizwan b Haris Rauf   15    10  2   \n",
      "14           Axar Patel  run out (Babar Azam/†Mohammad Rizwan)    2     3  0   \n",
      "15        Hardik Pandya          c Babar Azam b Mohammad Nawaz   40    37  1   \n",
      "16       Dinesh Karthik   st †Mohammad Rizwan b Mohammad Nawaz    1     2  0   \n",
      "17  Ravichandran Ashwin                                not out    1     1  0   \n",
      "\n",
      "   6s      SR Team  \n",
      "0   0   33.33    1  \n",
      "1   0    0.00    1  \n",
      "2   0  123.80    1  \n",
      "3   4  150.00    1  \n",
      "4   0   83.33    1  \n",
      "5   0   50.00    1  \n",
      "6   0  150.00    1  \n",
      "7   0   66.66    1  \n",
      "8   1  200.00    1  \n",
      "9   1  150.00    1  \n",
      "10  0   50.00    2  \n",
      "11  0   57.14    2  \n",
      "12  4  154.71    2  \n",
      "13  0  150.00    2  \n",
      "14  0   66.66    2  \n",
      "15  2  108.10    2  \n",
      "16  0   50.00    2  \n",
      "17  0  100.00    2  \n"
     ]
    }
   ],
   "source": [
    "import requests\n",
    "from bs4 import BeautifulSoup\n",
    "import pandas as pd\n",
    "import re\n",
    "\n",
    "\n",
    "URL = (\n",
    "        \"https://www.espncricinfo.com/series/\"\n",
    "        + str(1298134)\n",
    "        + \"/scorecard/\"\n",
    "        + str(1298150)\n",
    "    )\n",
    "page = requests.get(URL)\n",
    "soup = BeautifulSoup(page.content, \"lxml\")\n",
    "\n",
    "table_body = soup.find_all(\"tbody\")\n",
    "batsmen_df = pd.DataFrame(\n",
    "    columns=[\"Name\", \"Desc\", \"Runs\", \"Balls\", \"4s\", \"6s\", \"SR\", \"Team\"]\n",
    ")\n",
    "for i, table in enumerate(table_body[0:4:2]):\n",
    "    rows = table.find_all(\"tr\")\n",
    "    for row in rows:\n",
    "        cols = row.find_all(\"td\")\n",
    "        cols = [x.text.strip().replace(\"\\xa0\", \" \") for x in cols]\n",
    "        if cols[0] == \"Extras\" or cols[0] == \"TOTAL\":\n",
    "            continue\n",
    "        if len(cols) == 8:\n",
    "            batsmen_df = batsmen_df.append(\n",
    "                pd.Series(\n",
    "                    [\n",
    "                        re.sub(r\"\\W+\", \" \", cols[0].split(\"(c)\")[0]).strip(),\n",
    "                        cols[1],\n",
    "                        cols[2],\n",
    "                        cols[3],\n",
    "                        cols[5],\n",
    "                        cols[6],\n",
    "                        cols[7],\n",
    "                        i + 1,\n",
    "                    ],\n",
    "                    index=batsmen_df.columns,\n",
    "                ),\n",
    "                ignore_index=True,\n",
    "            )\n",
    "print(batsmen_df)"
   ]
  },
  {
   "cell_type": "code",
   "execution_count": null,
   "metadata": {},
   "outputs": [],
   "source": []
  }
 ],
 "metadata": {
  "kernelspec": {
   "display_name": "Python 3",
   "language": "python",
   "name": "python3"
  },
  "language_info": {
   "codemirror_mode": {
    "name": "ipython",
    "version": 3
   },
   "file_extension": ".py",
   "mimetype": "text/x-python",
   "name": "python",
   "nbconvert_exporter": "python",
   "pygments_lexer": "ipython3",
   "version": "3.7.5"
  },
  "orig_nbformat": 4
 },
 "nbformat": 4,
 "nbformat_minor": 2
}
